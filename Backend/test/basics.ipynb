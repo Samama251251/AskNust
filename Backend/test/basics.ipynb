{
 "cells": [
  {
   "cell_type": "code",
   "execution_count": 2,
   "metadata": {},
   "outputs": [],
   "source": [
    "from langchain_core.output_parsers import StrOutputParser\n",
    "from langchain_core.prompts import ChatPromptTemplate\n",
    "from langchain_openai import ChatOpenAI\n",
    "from dotenv import load_dotenv\n",
    "\n",
    "load_dotenv()\n",
    "model = ChatOpenAI(temperature=0, streaming=True)\n",
    "prompt = ChatPromptTemplate.from_template(\"tell me a joke about {topic}. 200 Words\")\n",
    "parser = StrOutputParser()\n",
    "chain = prompt | model | parser"
   ]
  },
  {
   "cell_type": "code",
   "execution_count": 3,
   "metadata": {},
   "outputs": [
    {
     "name": "stdout",
     "output_type": "stream",
     "text": [
      "Why did the parrot wear a raincoat?\n",
      "\n",
      "Because he wanted to be polyunsaturated!\n",
      "\n",
      "Why did the parrot sit on the clock?\n",
      "\n",
      "Because he wanted to be on \"time\"!\n",
      "\n",
      "Why did the parrot go to the doctor?\n",
      "\n",
      "Because he was feeling a little \"tweet\"!\n",
      "\n",
      "Why did the parrot join the circus?\n",
      "\n",
      "Because he wanted to be a \"bird\" performer!\n",
      "\n",
      "Why did the parrot bring a ladder to the bar?\n",
      "\n",
      "Because he heard the drinks were on the house!\n",
      "\n",
      "Why did the parrot refuse to eat his vegetables?\n",
      "\n",
      "Because he was already stuffed with crackers!\n",
      "\n",
      "Why did the parrot go to school?\n",
      "\n",
      "Because he wanted to be a \"smarty beak\"!\n",
      "\n",
      "Why did the parrot become a detective?\n",
      "\n",
      "Because he had a knack for \"cracking\" cases!\n",
      "\n",
      "Why did the parrot start a band?\n",
      "\n",
      "Because he had a talent for \"tweeting\" music!\n",
      "\n",
      "Why did the parrot go to the beach?\n",
      "\n",
      "Because he wanted to soak up some \"sun\"!"
     ]
    }
   ],
   "source": [
    "for chunk in chain.stream(\"parrot\"):\n",
    "    print(chunk, end=\"\", flush=True)"
   ]
  },
  {
   "cell_type": "code",
   "execution_count": null,
   "metadata": {},
   "outputs": [],
   "source": [
    "async for chunk in chain.astream(\"parrot\"):\n",
    "    print(chunk, end=\"\", flush=True)"
   ]
  },
  {
   "cell_type": "markdown",
   "metadata": {},
   "source": [
    "Events"
   ]
  },
  {
   "cell_type": "code",
   "execution_count": null,
   "metadata": {},
   "outputs": [],
   "source": [
    "async for event in model.astream_events(\"parrot\", version=\"v1\"):\n",
    "    print(event, flush=True)"
   ]
  },
  {
   "cell_type": "code",
   "execution_count": null,
   "metadata": {},
   "outputs": [],
   "source": [
    "events = []\n",
    "async for event in model.astream_events(\"parrot\", version=\"v1\"):\n",
    "    events.append(event)\n",
    "event_types = {event[\"event\"] for event in events}\n",
    "print(\"Unique event types:\", event_types)"
   ]
  },
  {
   "cell_type": "code",
   "execution_count": null,
   "metadata": {},
   "outputs": [],
   "source": [
    "async for event in model.astream_events(\"parrot\", version=\"v1\"):\n",
    "    if event[\"event\"] == \"on_chat_model_start\":\n",
    "        print(\"Stream started...\", flush=True)\n",
    "    elif event[\"event\"] == \"on_chat_model_stream\":\n",
    "        print(event[\"data\"][\"chunk\"].content, end=\"\", flush=True)"
   ]
  }
 ],
 "metadata": {
  "kernelspec": {
   "display_name": "asknust-PfsV9YXC-py3.12",
   "language": "python",
   "name": "python3"
  },
  "language_info": {
   "codemirror_mode": {
    "name": "ipython",
    "version": 3
   },
   "file_extension": ".py",
   "mimetype": "text/x-python",
   "name": "python",
   "nbconvert_exporter": "python",
   "pygments_lexer": "ipython3",
   "version": "3.12.3"
  }
 },
 "nbformat": 4,
 "nbformat_minor": 2
}
